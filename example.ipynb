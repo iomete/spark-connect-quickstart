{
 "cells": [
  {
   "cell_type": "markdown",
   "source": [
    "## Example Notebook for Spark Connect Usage\n",
    "\n",
    "### Steps to Follow:\n",
    "\n",
    "1. **Install Python Dependencies:** Ensure that all Python dependencies listed in the `requirements.txt` file are installed. For detailed installation instructions, refer to the `README.md` file.\n",
    "\n",
    "2. **Configure Spark Connect:** Obtain the connection details for the remote Spark Connect Clusters from the IOMETE console. Then, incorporate these details into the Spark builder configuration in this notebook.\n"
   ],
   "metadata": {
    "collapsed": false
   },
   "id": "a202332dc324dde"
  },
  {
   "cell_type": "code",
   "execution_count": 6,
   "outputs": [],
   "source": [
    "from pyspark.sql import SparkSession\n",
    "from pyspark.sql import Row\n",
    "from datetime import datetime, date\n",
    "\n",
    "spark = SparkSession.builder.remote(\"sc://...\").getOrCreate()"
   ],
   "metadata": {
    "collapsed": false,
    "ExecuteTime": {
     "end_time": "2023-12-09T12:41:16.574243Z",
     "start_time": "2023-12-09T12:41:16.446028Z"
    }
   },
   "id": "e6edefd9ece0b08b"
  },
  {
   "cell_type": "markdown",
   "source": [
    "### Example dataframe operations"
   ],
   "metadata": {
    "collapsed": false
   },
   "id": "8fea91bc8bdaef3f"
  },
  {
   "cell_type": "code",
   "execution_count": 7,
   "outputs": [
    {
     "name": "stdout",
     "output_type": "stream",
     "text": [
      "+---+---+-------+----------+-------------------+\n",
      "|  a|  b|      c|         d|                  e|\n",
      "+---+---+-------+----------+-------------------+\n",
      "|  1|2.0|string1|2000-01-01|2000-01-01 11:00:00|\n",
      "|  2|3.0|string2|2000-02-01|2000-01-02 11:00:00|\n",
      "|  4|5.0|string3|2000-03-01|2000-01-03 11:00:00|\n",
      "+---+---+-------+----------+-------------------+\n"
     ]
    }
   ],
   "source": [
    "df = spark.createDataFrame([\n",
    "    Row(a=1, b=2., c='string1', d=date(2000, 1, 1), e=datetime(2000, 1, 1, 12, 0)),\n",
    "    Row(a=2, b=3., c='string2', d=date(2000, 2, 1), e=datetime(2000, 1, 2, 12, 0)),\n",
    "    Row(a=4, b=5., c='string3', d=date(2000, 3, 1), e=datetime(2000, 1, 3, 12, 0))\n",
    "])\n",
    "df.show()"
   ],
   "metadata": {
    "collapsed": false,
    "ExecuteTime": {
     "end_time": "2023-12-09T12:41:17.129376Z",
     "start_time": "2023-12-09T12:41:16.576290Z"
    }
   },
   "id": "d51c40bdb4139b68"
  },
  {
   "cell_type": "markdown",
   "source": [
    "### Query tables from the remote cluster"
   ],
   "metadata": {
    "collapsed": false
   },
   "id": "1354f29b80792f72"
  },
  {
   "cell_type": "code",
   "execution_count": 8,
   "outputs": [
    {
     "name": "stdout",
     "output_type": "stream",
     "text": [
      "+---------+---------+-----------+\n",
      "|namespace|tableName|isTemporary|\n",
      "+---------+---------+-----------+\n",
      "|  default|  ANOMALY|      false|\n",
      "|  default|employees|      false|\n",
      "+---------+---------+-----------+\n"
     ]
    }
   ],
   "source": [
    "spark.sql(\"show tables\").show()"
   ],
   "metadata": {
    "collapsed": false,
    "ExecuteTime": {
     "end_time": "2023-12-09T12:41:17.568368Z",
     "start_time": "2023-12-09T12:41:17.124025Z"
    }
   },
   "id": "1f91be2b830c2fc3"
  },
  {
   "cell_type": "code",
   "execution_count": 9,
   "outputs": [
    {
     "name": "stdout",
     "output_type": "stream",
     "text": [
      "+------+----------+----------+---------+------+----------+\n",
      "|emp_no|birth_date|first_name|last_name|gender| hire_date|\n",
      "+------+----------+----------+---------+------+----------+\n",
      "| 10001|1953-09-02|    Georgi|  Facello|     M|1986-06-26|\n",
      "| 10002|1964-06-02|   Bezalel|   Simmel|     F|1985-11-21|\n",
      "| 10003|1959-12-03|     Parto|  Bamford|     M|1986-08-28|\n",
      "| 10004|1954-05-01| Chirstian|  Koblick|     M|1986-12-01|\n",
      "| 10005|1955-01-21|   Kyoichi| Maliniak|     M|1989-09-12|\n",
      "| 10006|1953-04-20|    Anneke|  Preusig|     F|1989-06-02|\n",
      "| 10007|1957-05-23|   Tzvetan|Zielinski|     F|1989-02-10|\n",
      "| 10008|1958-02-19|    Saniya| Kalloufi|     M|1994-09-15|\n",
      "| 10009|1952-04-19|    Sumant|     Peac|     F|1985-02-18|\n",
      "| 10010|1963-06-01| Duangkaew| Piveteau|     F|1989-08-24|\n",
      "+------+----------+----------+---------+------+----------+\n"
     ]
    }
   ],
   "source": [
    "spark.sql(\"select * from default.employees limit 10\").show()"
   ],
   "metadata": {
    "collapsed": false,
    "ExecuteTime": {
     "end_time": "2023-12-09T12:41:18.126449Z",
     "start_time": "2023-12-09T12:41:17.565145Z"
    }
   },
   "id": "1edade70310f0e9b"
  },
  {
   "cell_type": "code",
   "execution_count": 9,
   "outputs": [],
   "source": [],
   "metadata": {
    "collapsed": false,
    "ExecuteTime": {
     "end_time": "2023-12-09T12:41:18.127364Z",
     "start_time": "2023-12-09T12:41:18.118850Z"
    }
   },
   "id": "f2fee151861b0e37"
  }
 ],
 "metadata": {
  "kernelspec": {
   "display_name": "Python 3",
   "language": "python",
   "name": "python3"
  },
  "language_info": {
   "codemirror_mode": {
    "name": "ipython",
    "version": 2
   },
   "file_extension": ".py",
   "mimetype": "text/x-python",
   "name": "python",
   "nbconvert_exporter": "python",
   "pygments_lexer": "ipython2",
   "version": "2.7.6"
  }
 },
 "nbformat": 4,
 "nbformat_minor": 5
}
